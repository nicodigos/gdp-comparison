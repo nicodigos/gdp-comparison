{
 "cells": [
  {
   "cell_type": "code",
   "execution_count": 39,
   "id": "fa8fc8f9-29a0-40b4-a507-d0c59b196b9f",
   "metadata": {},
   "outputs": [],
   "source": [
    "import pandas as pd\n",
    "import matplotlib.pyplot as plt\n",
    "pd.set_option('display.float_format', '{:.0f}'.format)"
   ]
  },
  {
   "cell_type": "code",
   "execution_count": 40,
   "id": "656fc27f-f6f4-43f0-9a9b-850355bb2ff5",
   "metadata": {},
   "outputs": [],
   "source": [
    "df_dict = dict()"
   ]
  },
  {
   "cell_type": "markdown",
   "id": "d1f9fddc-20a1-4a41-8fbe-8dae0167ed98",
   "metadata": {},
   "source": [
    "# Dataframes of GDP constant 2015 USD\n",
    "[Total](https://data360.worldbank.org/en/indicator/WB_WDI_NY_GDP_MKTP_KD) \\\n",
    "[Per Capita](https://data360.worldbank.org/en/indicator/WB_WDI_NY_GDP_MKTP_KD)"
   ]
  },
  {
   "cell_type": "code",
   "execution_count": 41,
   "id": "d4473653-1395-42eb-a041-cf795868994a",
   "metadata": {},
   "outputs": [],
   "source": [
    "df_dict['df_per_capita'] = pd.read_csv('data/per_capita.csv')"
   ]
  },
  {
   "cell_type": "code",
   "execution_count": 42,
   "id": "d28de078-881b-44aa-9afd-974fd091037b",
   "metadata": {},
   "outputs": [],
   "source": [
    "df_dict['df_total'] = pd.read_csv('data/total.csv')"
   ]
  },
  {
   "cell_type": "markdown",
   "id": "6726a2dd-3dd3-4a34-a472-3d4d6bdc8f00",
   "metadata": {},
   "source": [
    "# Dataframes of GDP constant 2017 USD PPP\n",
    "[Total](https://data360.worldbank.org/en/indicator/WB_WDI_NY_GDP_MKTP_PP_KD) \\\n",
    "[Per Capita](https://data360.worldbank.org/en/indicator/WB_WDI_NY_GDP_PCAP_PP_KD)"
   ]
  },
  {
   "cell_type": "code",
   "execution_count": 43,
   "id": "4226542e-63a3-47ae-a365-267ecb90bb20",
   "metadata": {},
   "outputs": [],
   "source": [
    "df_dict['df_pc_ppp'] = pd.read_csv('data/per_capita_ppp.csv')"
   ]
  },
  {
   "cell_type": "code",
   "execution_count": 44,
   "id": "adda3f20-26a7-4ef1-82a7-82f413eb8d18",
   "metadata": {},
   "outputs": [],
   "source": [
    "df_dict['df_ppp'] = pd.read_csv('data/total_ppp.csv')\n"
   ]
  },
  {
   "cell_type": "markdown",
   "id": "9221f34f-6b3b-4568-be9e-3b1a2e0c2c42",
   "metadata": {},
   "source": [
    "--------------------------"
   ]
  },
  {
   "cell_type": "code",
   "execution_count": 45,
   "id": "17db1106-a663-4483-a3e8-37fa82db489c",
   "metadata": {},
   "outputs": [],
   "source": [
    "set1 = set(df_dict['df_total'].columns)\n",
    "set2 = set(df_dict['df_per_capita'].columns)\n",
    "set3 = set(df_dict['df_ppp'].columns)\n",
    "set4 = set(df_dict['df_pc_ppp'].columns)"
   ]
  },
  {
   "cell_type": "code",
   "execution_count": 46,
   "id": "d4a23ddd-195d-4f63-9592-a0dbbcfb528d",
   "metadata": {},
   "outputs": [
    {
     "data": {
      "text/plain": [
       "True"
      ]
     },
     "execution_count": 46,
     "metadata": {},
     "output_type": "execute_result"
    }
   ],
   "source": [
    "# Do all the dataframes have the same columns?\n",
    "set1 == set2 == set3 == set4"
   ]
  },
  {
   "cell_type": "markdown",
   "id": "f19359f6-ce7e-4f32-9c40-081b898868a9",
   "metadata": {},
   "source": [
    "---------------------------"
   ]
  },
  {
   "cell_type": "code",
   "execution_count": 47,
   "id": "be29d278-258d-4cd5-99b7-0d872cf5dcd1",
   "metadata": {},
   "outputs": [],
   "source": [
    "def pivot_table(data):\n",
    "    return pd.pivot_table(data, values='OBS_VALUE', index='REF_AREA_NAME', columns='TIME_PERIOD', aggfunc='sum')"
   ]
  },
  {
   "cell_type": "code",
   "execution_count": 52,
   "id": "ac92ff40-fe25-4735-85a9-25973b919edd",
   "metadata": {},
   "outputs": [],
   "source": [
    "new_dict = dict()\n",
    "for k in df_dict.keys():\n",
    "    pivot_table(df_dict[k]).to_csv(f'{k}_result.csv')\n",
    "    new_dict[f'{k}_result'] = pivot_table(df_dict[k])"
   ]
  },
  {
   "cell_type": "markdown",
   "id": "a09d8fc0-9f6e-4ce7-891d-4cd92bd66e97",
   "metadata": {},
   "source": [
    "# Charts"
   ]
  },
  {
   "cell_type": "code",
   "execution_count": 35,
   "id": "45c6b6e5-b0ac-41c9-a61d-94083c95f674",
   "metadata": {},
   "outputs": [
    {
     "data": {
      "text/plain": [
       "dict_keys(['df_per_capita_result', 'df_total_result', 'df_pc_ppp_result', 'df_ppp_result'])"
      ]
     },
     "execution_count": 35,
     "metadata": {},
     "output_type": "execute_result"
    }
   ],
   "source": [
    "new_dict.keys()"
   ]
  },
  {
   "cell_type": "code",
   "execution_count": 13,
   "id": "30e7a4a2-88fe-4561-9d8c-32a00561313b",
   "metadata": {},
   "outputs": [],
   "source": [
    "country = ['Colombia', 'Argentina']"
   ]
  },
  {
   "cell_type": "code",
   "execution_count": 51,
   "id": "74287bbe-ab8b-44ea-a11a-e68c0da5388b",
   "metadata": {},
   "outputs": [
    {
     "ename": "AttributeError",
     "evalue": "'DataFrame' object has no attribute 'drop_index'",
     "output_type": "error",
     "traceback": [
      "\u001b[31m---------------------------------------------------------------------------\u001b[39m",
      "\u001b[31mAttributeError\u001b[39m                            Traceback (most recent call last)",
      "\u001b[32m/tmp/ipykernel_5517/3065310711.py\u001b[39m in \u001b[36m?\u001b[39m\u001b[34m()\u001b[39m\n\u001b[32m----> \u001b[39m\u001b[32m1\u001b[39m new_dict[\u001b[33m'df_per_capita_result'\u001b[39m].drop_index()\n",
      "\u001b[32m~/Documents/Canada/Trade/.venv/lib64/python3.11/site-packages/pandas/core/generic.py\u001b[39m in \u001b[36m?\u001b[39m\u001b[34m(self, name)\u001b[39m\n\u001b[32m   6314\u001b[39m             \u001b[38;5;28;01mand\u001b[39;00m name \u001b[38;5;28;01mnot\u001b[39;00m \u001b[38;5;28;01min\u001b[39;00m self._accessors\n\u001b[32m   6315\u001b[39m             \u001b[38;5;28;01mand\u001b[39;00m self._info_axis._can_hold_identifiers_and_holds_name(name)\n\u001b[32m   6316\u001b[39m         ):\n\u001b[32m   6317\u001b[39m             \u001b[38;5;28;01mreturn\u001b[39;00m self[name]\n\u001b[32m-> \u001b[39m\u001b[32m6318\u001b[39m         \u001b[38;5;28;01mreturn\u001b[39;00m object.__getattribute__(self, name)\n",
      "\u001b[31mAttributeError\u001b[39m: 'DataFrame' object has no attribute 'drop_index'"
     ]
    }
   ],
   "source": [
    "new_dict['df_per_capita_result']"
   ]
  },
  {
   "cell_type": "code",
   "execution_count": 38,
   "id": "17250c29-64cb-4311-9b89-66b21b1ef11f",
   "metadata": {},
   "outputs": [
    {
     "data": {
      "image/png": "[encoded data removed]",
      "text/plain": [
       "<Figure size 640x480 with 1 Axes>"
      ]
     },
     "metadata": {},
     "output_type": "display_data"
    }
   ],
   "source": [
    "# Create the plot\n",
    "for c in country:\n",
    "    plt.plot(new_dict['df_per_capita_result'].columns, new_dict['df_per_capita_result'].transpose()[c], label=c) \n",
    "\n",
    "# Add title and labels\n",
    "plt.title('Crecimiento PIB')\n",
    "plt.xlabel('year')\n",
    "plt.ylabel('growth')\n",
    "\n",
    "# Add legend\n",
    "plt.legend(loc='upper left', bbox_to_anchor=(1, 1))\n",
    "\n",
    "# Show the plot\n",
    "plt.show()\n"
   ]
  },
  {
   "cell_type": "code",
   "execution_count": null,
   "id": "cd0a4016-e43c-4b32-856a-5a12a7caf0e0",
   "metadata": {},
   "outputs": [],
   "source": []
  }
 ],
 "metadata": {
  "kernelspec": {
   "display_name": "Python 3 (ipykernel)",
   "language": "python",
   "name": "python3"
  },
  "language_info": {
   "codemirror_mode": {
    "name": "ipython",
    "version": 3
   },
   "file_extension": ".py",
   "mimetype": "text/x-python",
   "name": "python",
   "nbconvert_exporter": "python",
   "pygments_lexer": "ipython3",
   "version": "3.11.9"
  }
 },
 "nbformat": 4,
 "nbformat_minor": 5
}
